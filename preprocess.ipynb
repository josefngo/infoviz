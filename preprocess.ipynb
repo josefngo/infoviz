{
 "cells": [
  {
   "cell_type": "code",
   "execution_count": null,
   "metadata": {},
   "outputs": [
    {
     "ename": "TypeError",
     "evalue": "Series.rename() got an unexpected keyword argument 'columns'",
     "output_type": "error",
     "traceback": [
      "\u001b[0;31m---------------------------------------------------------------------------\u001b[0m",
      "\u001b[0;31mTypeError\u001b[0m                                 Traceback (most recent call last)",
      "Cell \u001b[0;32mIn[18], line 14\u001b[0m\n\u001b[1;32m     12\u001b[0m \u001b[38;5;66;03m# subtract with 1.1 for the baseline (IPCC report)\u001b[39;00m\n\u001b[1;32m     13\u001b[0m average_per_country \u001b[38;5;241m=\u001b[39m average_per_country\u001b[38;5;241m.\u001b[39msub(\u001b[38;5;241m1.1\u001b[39m)\n\u001b[0;32m---> 14\u001b[0m average_per_country\u001b[38;5;241m.\u001b[39mrename(columns\u001b[38;5;241m=\u001b[39m{\u001b[38;5;124m'\u001b[39m\u001b[38;5;124mAnnual Mean\u001b[39m\u001b[38;5;124m'\u001b[39m: \u001b[38;5;124m'\u001b[39m\u001b[38;5;124mBaseline\u001b[39m\u001b[38;5;124m'\u001b[39m}, inplace\u001b[38;5;241m=\u001b[39m\u001b[38;5;28;01mTrue\u001b[39;00m)\n\u001b[1;32m     17\u001b[0m average_per_country_df \u001b[38;5;241m=\u001b[39m average_per_country\u001b[38;5;241m.\u001b[39mreset_index()\n\u001b[1;32m     18\u001b[0m average_per_country_df\u001b[38;5;241m.\u001b[39mto_csv(\u001b[38;5;124m'\u001b[39m\u001b[38;5;124mdata/baseline.csv\u001b[39m\u001b[38;5;124m'\u001b[39m, index\u001b[38;5;241m=\u001b[39m\u001b[38;5;28;01mFalse\u001b[39;00m)\n",
      "\u001b[0;31mTypeError\u001b[0m: Series.rename() got an unexpected keyword argument 'columns'"
     ]
    }
   ],
   "source": [
    "import pandas as pd\n",
    "\n",
    "# Load the dataset\n",
    "df = pd.read_csv('data/combined_temperature.csv')\n",
    "\n",
    "# Filter for the years 2011-2020\n",
    "filtered_df = df[(df['Year'] >= 2011) & (df['Year'] <= 2020)]\n",
    "\n",
    "# Calculate the mean of mean for each country\n",
    "average_per_country = filtered_df.groupby('Country')['Annual Mean'].mean()\n",
    "\n",
    "# subtract with 1.1 for the baseline (IPCC report)\n",
    "average_per_country = average_per_country.sub(1.1)\n",
    "\n",
    "average_per_country_df = average_per_country.reset_index()\n",
    "average_per_country_df.rename(columns={'Annual Mean': 'Baseline'}, inplace=True)\n",
    "average_per_country_df.to_csv('data/baseline.csv', index=False)\n"
   ]
  }
 ],
 "metadata": {
  "kernelspec": {
   "display_name": "base",
   "language": "python",
   "name": "python3"
  },
  "language_info": {
   "codemirror_mode": {
    "name": "ipython",
    "version": 3
   },
   "file_extension": ".py",
   "mimetype": "text/x-python",
   "name": "python",
   "nbconvert_exporter": "python",
   "pygments_lexer": "ipython3",
   "version": "3.12.7"
  }
 },
 "nbformat": 4,
 "nbformat_minor": 2
}
