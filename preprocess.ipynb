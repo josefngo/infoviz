{
 "cells": [
  {
   "cell_type": "code",
   "execution_count": 19,
   "metadata": {},
   "outputs": [],
   "source": [
    "import pandas as pd\n",
    "\n",
    "# Load the dataset\n",
    "df = pd.read_csv('data/combined_temperature.csv')\n",
    "\n",
    "# Filter for the years 2011-2020\n",
    "filtered_df = df[(df['Year'] >= 2011) & (df['Year'] <= 2020)]\n",
    "\n",
    "# Calculate the mean of mean for each country\n",
    "average_per_country = filtered_df.groupby('Country')['Annual Mean'].mean()\n",
    "\n",
    "# subtract with 1.1 for the baseline (IPCC report)\n",
    "average_per_country = average_per_country.sub(1.1)\n",
    "\n",
    "average_per_country_df = average_per_country.reset_index()\n",
    "average_per_country_df.rename(columns={'Annual Mean': 'Baseline'}, inplace=True)\n",
    "average_per_country_df.to_csv('data/baseline.csv', index=False)\n"
   ]
  },
  {
   "cell_type": "code",
   "execution_count": null,
   "metadata": {},
   "outputs": [],
   "source": [
    "import pandas as pd\n",
    "\n",
    "# Load the dataset\n",
    "df = pd.read_csv('data/combined_temperature.csv')\n",
    "\n",
    "# Filter for the years 2011-2020\n",
    "filtered_df = df[(df['Year'] >= 2011) & (df['Year'] <= 2020)]\n",
    "\n",
    "# Calculate the mean of mean for each country\n",
    "average_per_country = filtered_df.groupby('Country')['Annual Mean'].mean()\n",
    "\n",
    "# Subtract 1.1 for the baseline (IPCC report)\n",
    "average_per_country = average_per_country.sub(1.1)\n",
    "\n",
    "# Add the baseline-adjusted annual mean to the original dataframe\n",
    "df['delta'] = df['Annual Mean'] - df['Country'].map(average_per_country)\n",
    "\n",
    "# Save the updated dataframe to a new file\n",
    "df.to_csv('data/combined_temperature_with_delta.csv', index=False)\n"
   ]
  }
 ],
 "metadata": {
  "kernelspec": {
   "display_name": "base",
   "language": "python",
   "name": "python3"
  },
  "language_info": {
   "codemirror_mode": {
    "name": "ipython",
    "version": 3
   },
   "file_extension": ".py",
   "mimetype": "text/x-python",
   "name": "python",
   "nbconvert_exporter": "python",
   "pygments_lexer": "ipython3",
   "version": "3.12.7"
  }
 },
 "nbformat": 4,
 "nbformat_minor": 2
}
