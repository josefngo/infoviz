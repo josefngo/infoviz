{
 "cells": [
  {
   "cell_type": "code",
   "execution_count": null,
   "metadata": {},
   "outputs": [
    {
     "name": "stdout",
     "output_type": "stream",
     "text": [
      "0         1743\n",
      "1         1743\n",
      "2         1744\n",
      "3         1744\n",
      "4         1744\n",
      "          ... \n",
      "577457    2013\n",
      "577458    2013\n",
      "577459    2013\n",
      "577460    2013\n",
      "577461    2013\n",
      "Name: Year, Length: 577462, dtype: int32\n",
      "Years with no missing values for all countries: [1753, 1759, 1768, 1896, 1903, 1904, 1905, 1906, 1909, 1910, 1911, 1912, 1913, 1914, 1915, 1916, 1917, 1918, 1919, 1922, 1923, 1924, 1925, 1926, 1927, 1928, 1929, 1931, 1932, 1933, 1934, 1935, 1936, 1937, 1938, 1939, 1940, 1941, 1942, 1943, 1944, 1945, 1946, 1947]\n"
     ]
    }
   ],
   "source": [
    "import pandas as pd\n",
    "\n",
    "# Load the CSV file\n",
    "data = pd.read_csv('data.csv')\n",
    "\n",
    "# Extract the year from the 'dt' column and add it as a new column\n",
    "data['Year'] = pd.to_datetime(data['dt']).dt.year\n",
    "\n",
    "print(data['Year'])\n",
    "\n",
    "# Group by 'Year' and check if all countries have non-missing values for each year\n",
    "years_without_missing_temps = (\n",
    "    data.groupby('Year')['AverageTemperature']\n",
    "    .apply(lambda x: x.notna().all())\n",
    "    .loc[lambda x: x == True]\n",
    "    .index.tolist()\n",
    ")\n",
    "\n",
    "years_without_missing_temps.sort\n",
    "\n",
    "print(\"Years with no missing values for all countries:\", years_without_missing_temps)\n"
   ]
  }
 ],
 "metadata": {
  "kernelspec": {
   "display_name": "base",
   "language": "python",
   "name": "python3"
  },
  "language_info": {
   "codemirror_mode": {
    "name": "ipython",
    "version": 3
   },
   "file_extension": ".py",
   "mimetype": "text/x-python",
   "name": "python",
   "nbconvert_exporter": "python",
   "pygments_lexer": "ipython3",
   "version": "3.12.7"
  }
 },
 "nbformat": 4,
 "nbformat_minor": 2
}
